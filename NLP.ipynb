{
 "cells": [
  {
   "cell_type": "code",
   "execution_count": 3,
   "metadata": {},
   "outputs": [],
   "source": [
    "import numpy as np\n",
    "import gensim\n",
    "from tqdm import tqdm\n",
    "from gensim.scripts.glove2word2vec import glove2word2vec\n",
    "from gensim.models import KeyedVectors\n",
    "import os"
   ]
  },
  {
   "cell_type": "code",
   "execution_count": 4,
   "metadata": {},
   "outputs": [],
   "source": [
    "#embedding_url = 'http://nlp.stanford.edu/data/glove.6B.zip'\n",
    "glove_input_file = 'glove.6B.300d.txt'\n",
    "word2vec_output_file = 'glove.6B.300d.txt.word2vec'\n",
    "\n",
    "if not os.path.exists(word2vec_output_file):\n",
    "    glove2word2vec(glove_input_file, word2vec_output_file)\n",
    "embed = KeyedVectors.load_word2vec_format(word2vec_output_file, binary=False)"
   ]
  },
  {
   "cell_type": "code",
   "execution_count": 5,
   "metadata": {},
   "outputs": [],
   "source": [
    "stop_words = ['for', 'a', 'or', 'in']\n",
    "cuisine_refs = [\"mexican\", \"thai\", \"british\", \"american\", \"italian\"]"
   ]
  },
  {
   "cell_type": "code",
   "execution_count": 7,
   "metadata": {},
   "outputs": [],
   "source": [
    "def sim_found(sample_sentence):\n",
    "    try:\n",
    "        tokens = sample_sentence.split()\n",
    "        tokens = [x.lower().strip() for x in tokens] \n",
    "        threshold = 10\n",
    "        found = []\n",
    "        for term in tokens:\n",
    "            if term not in stop_words:\n",
    "                if term in embed.vocab:\n",
    "                    scores = []\n",
    "                    for C in cuisine_refs:\n",
    "                        scores.append(np.dot(embed[C], embed[term].T)) \n",
    "                        mean_score = np.mean(scores)\n",
    "                    if mean_score > threshold:\n",
    "                        found.append(term)\n",
    "        return(found)\n",
    "    except Exception as error:\n",
    "        print(error)\n",
    "        return found"
   ]
  },
  {
   "cell_type": "code",
   "execution_count": 8,
   "metadata": {},
   "outputs": [
    {
     "name": "stdout",
     "output_type": "stream",
     "text": [
      "['indian', 'chinese']\n"
     ]
    }
   ],
   "source": [
    "# Finding possible cuisine names from a given sentence using Glove\n",
    "sample_sentence = \"I’m looking for a cheap Indian or Chinese place in Indiranagar\"\n",
    "print(sim_found(sample_sentence))"
   ]
  },
  {
   "cell_type": "code",
   "execution_count": null,
   "metadata": {},
   "outputs": [],
   "source": []
  },
  {
   "cell_type": "code",
   "execution_count": null,
   "metadata": {},
   "outputs": [],
   "source": []
  },
  {
   "cell_type": "code",
   "execution_count": null,
   "metadata": {},
   "outputs": [],
   "source": []
  }
 ],
 "metadata": {
  "kernelspec": {
   "display_name": "Python 3",
   "language": "python",
   "name": "python3"
  },
  "language_info": {
   "codemirror_mode": {
    "name": "ipython",
    "version": 3
   },
   "file_extension": ".py",
   "mimetype": "text/x-python",
   "name": "python",
   "nbconvert_exporter": "python",
   "pygments_lexer": "ipython3",
   "version": "3.7.2"
  }
 },
 "nbformat": 4,
 "nbformat_minor": 2
}