{
 "cells": [
  {
   "cell_type": "code",
   "execution_count": 1,
   "metadata": {
    "collapsed": true
   },
   "outputs": [],
   "source": [
    "import xml.etree.ElementTree as ET\n",
    "import string, re\n",
    "import os.path,os"
   ]
  },
  {
   "cell_type": "code",
   "execution_count": 2,
   "metadata": {
    "collapsed": true
   },
   "outputs": [],
   "source": [
    "import logging\n",
    "logging.basicConfig(format='%(asctime)s : %(levelname)s : %(message)s', level=logging.INFO)"
   ]
  },
  {
   "cell_type": "code",
   "execution_count": 3,
   "metadata": {
    "collapsed": false
   },
   "outputs": [],
   "source": [
    "def prep(text):\n",
    "    text = text.lower()\n",
    "    return text+'\\n'"
   ]
  },
  {
   "cell_type": "code",
   "execution_count": 4,
   "metadata": {
    "collapsed": true
   },
   "outputs": [],
   "source": [
    "def cleanify(root,PATH):\n",
    "    '''Generates paras.txt in every subdirectory of stackexchange.'''\n",
    "    strings = []\n",
    "    printable = set(string.printable)\n",
    "    str1 = \"\"\n",
    "\n",
    "    for body in root.findall('row'):\n",
    "        strings.append(body.get('Body'))\n",
    "\n",
    "    fout = open(os.path.join(PATH,'paras.txt'),'w')\n",
    "    str = \"\"\n",
    "    for each in strings:\n",
    "        each = prep(each)\n",
    "        str += each\n",
    "\n",
    "    fout.write(str)\n",
    "    fout.close()"
   ]
  },
  {
   "cell_type": "code",
   "execution_count": 5,
   "metadata": {
    "collapsed": false
   },
   "outputs": [],
   "source": [
    "dirs = os.listdir('/Volumes/Seagate Expansion Drive/stackexchange')\n",
    "for each in dirs:\n",
    "    if each == \".DS_Store\":        \n",
    "        continue\n",
    "    PATH = os.path.join('/Volumes/Seagate Expansion Drive/stackexchange',each)\n",
    "    root = ET.parse(os.path.join(PATH,'Posts.xml')).getroot()\n",
    "    logging.info('Generated paragraphs for',each)\n",
    "    cleanify(root,PATH)\n",
    "    logging.info('SUCCESS')"
   ]
  },
  {
   "cell_type": "code",
   "execution_count": 26,
   "metadata": {
    "collapsed": false
   },
   "outputs": [
    {
     "name": "stdout",
     "output_type": "stream",
     "text": [
      "utf-8\n"
     ]
    }
   ],
   "source": [
    "import sys\n",
    "print(sys.getdefaultencoding())"
   ]
  }
 ],
 "metadata": {
  "anaconda-cloud": {},
  "kernelspec": {
   "display_name": "Python [anaconda]",
   "language": "python",
   "name": "Python [anaconda]"
  },
  "language_info": {
   "codemirror_mode": {
    "name": "ipython",
    "version": 3
   },
   "file_extension": ".py",
   "mimetype": "text/x-python",
   "name": "python",
   "nbconvert_exporter": "python",
   "pygments_lexer": "ipython3",
   "version": "3.5.5"
  }
 },
 "nbformat": 4,
 "nbformat_minor": 0
}
